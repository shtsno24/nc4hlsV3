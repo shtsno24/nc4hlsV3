{
 "cells": [
  {
   "cell_type": "code",
   "execution_count": null,
   "metadata": {},
   "outputs": [],
   "source": [
    "import json\n",
    "import pickle\n",
    "import numpy as np\n",
    "from PIL import Image\n",
    "from pynq import Overlay\n",
    "import pynq.lib.dma\n",
    "from pynq import allocate\n",
    "import sys\n",
    "\n",
    "sys.path.append(\"./pynq\")\n",
    "import IPUnit_PYNQ"
   ]
  },
  {
   "cell_type": "code",
   "execution_count": null,
   "metadata": {},
   "outputs": [],
   "source": [
    "json_file = \"./pynq/Config.json\"\n",
    "with open(json_file, \"r\") as jf:\n",
    "    ip_config = json.load(jf)\n",
    "\n",
    "# data_types_dict = {\"data_type\": \"q4.12\",\n",
    "#                    \"addr_type\": \"int16\",\n",
    "#                    \"signal_type\": \"int16\"}\n",
    "_data_types_dict = ip_config[\"data_types\"]\n",
    "data_types_dict = {}\n",
    "for k, v in _data_types_dict.items():\n",
    "    if \"_t\" in v:\n",
    "        data_types_dict[k] = v[:-2]\n",
    "    elif v == \"float\":\n",
    "        data_types_dict[k] = \"float32\"\n",
    "    elif v == \"double\":\n",
    "        data_types_dict[k] = \"float64\"\n",
    "    else:\n",
    "        data_types_dict[k] = v\n",
    "print(data_types_dict)\n",
    "\n",
    "data_types_dataset = np.float32\n",
    "src_size, dst_size = (1, 28, 28, 1), (1, 28, 28, 1)\n",
    "\n",
    "fake_data_src = np.array(Image.open('./keras_mnist_DCAE_input_2D.png'), dtype=data_types_dataset)\n",
    "fake_data_src = (fake_data_src - np.min(fake_data_src)) / (np.max(fake_data_src) - np.min(fake_data_src))\n",
    "fake_data_src = [fake_data_src.reshape(src_size)]\n",
    "\n",
    "data_vec_config = ip_config[\"data_vec_config\"]\n",
    "_src_data = [[0 for x in range(y)] for y in data_vec_config.values()]\n",
    "for bank, i in enumerate(fake_data_src):\n",
    "    _i = i.reshape(-1).tolist()\n",
    "    for j, k in enumerate(_i):\n",
    "        _src_data[bank][j] = k\n",
    "opcode = ip_config[\"opcode\"]\n",
    "\n",
    "control_code_file = \"./pynq/control_code.bin\"\n",
    "weights_vec_file = \"./pynq/Weights.bin\"\n",
    "bitstream_file = \"./pynq/design_1.bit\"\n",
    "ipcore_name = \"ipcore_7threads_q4_12_0\"\n",
    "\n",
    "ipunit_output = IPUnit_PYNQ.IPUnit_PYNQ(_src_data,\n",
    "                                        opcode,\n",
    "                                        control_code_file=control_code_file,\n",
    "                                        weights_vec_file=weights_vec_file,\n",
    "                                        bitstream_file=bitstream_file,\n",
    "                                        data_types=data_types_dict,\n",
    "                                        ipcore_name=ipcore_name,\n",
    "                                        print_debug=True)"
   ]
  },
  {
   "cell_type": "code",
   "execution_count": null,
   "metadata": {},
   "outputs": [],
   "source": [
    "def export_as_png(data: list, shape, file_name: str):\n",
    "    _output = np.array(data).reshape(shape)\n",
    "    _output = (_output - np.min(_output)) / (np.max(_output) - np.min(_output)) * 255\n",
    "    _output = _output.astype(np.uint8)\n",
    "    _img = Image.fromarray(_output)\n",
    "    _img.save(file_name)\n",
    "\n",
    "_dst_size = dst_size[0] * dst_size[1] * dst_size[2] * dst_size[3]\n",
    "ipunit_output[0] = ipunit_output[0][0:_dst_size]\n",
    "\n",
    "export_as_png(ipunit_output[0], dst_size[1:3], \"./result_img/ipunit_output_pynq.png\")\n",
    "Image.open(\"./result_img/ipunit_output_pynq.png\")"
   ]
  },
  {
   "cell_type": "code",
   "execution_count": null,
   "metadata": {},
   "outputs": [],
   "source": [
    "output_bin_files = [\"./result_img/pynq_output.bin\"]\n",
    "output_bin_data = [ipunit_output[0]]\n",
    "for serialized_item in zip(output_bin_files, output_bin_data):\n",
    "    with open(serialized_item[0], \"wb\") as f:\n",
    "        pickle.dump(serialized_item[1], f)"
   ]
  },
  {
   "cell_type": "code",
   "execution_count": null,
   "metadata": {},
   "outputs": [],
   "source": [
    "src_data_name = [\"./test_img/src_data_{:03}.png\".format(i) for i in range(100)]\n",
    "execute_time = []\n",
    "\n",
    "for cnt, src_img in enumerate(src_data_name):\n",
    "    fake_data_src = np.array(Image.open(src_img), dtype=data_types_dataset)\n",
    "    fake_data_src = (fake_data_src - np.min(fake_data_src)) / (np.max(fake_data_src) - np.min(fake_data_src))\n",
    "    fake_data_src = [fake_data_src.reshape(src_size)]\n",
    "\n",
    "    data_vec_config = ip_config[\"data_vec_config\"]\n",
    "    _src_data = [[0 for x in range(y)] for y in data_vec_config.values()]\n",
    "    for bank, i in enumerate(fake_data_src):\n",
    "        _i = i.reshape(-1).tolist()\n",
    "        for j, k in enumerate(_i):\n",
    "            _src_data[bank][j] = k\n",
    "    opcode = ip_config[\"opcode\"]\n",
    "\n",
    "    ipunit_output, _execute_time = IPUnit_PYNQ.IPUnit_PYNQ_execute_time(_src_data,\n",
    "                                                                       opcode,\n",
    "                                                                       control_code_file=control_code_file,\n",
    "                                                                       weights_vec_file=weights_vec_file,\n",
    "                                                                       bitstream_file=bitstream_file,\n",
    "                                                                       data_types=data_types_dict,\n",
    "                                                                       ipcore_name=ipcore_name,\n",
    "                                                                       print_debug=False)\n",
    "    execute_time.append(_execute_time)\n"
   ]
  },
  {
   "cell_type": "code",
   "execution_count": null,
   "metadata": {},
   "outputs": [],
   "source": [
    "run_time = []\n",
    "for i, single_record in enumerate(execute_time):\n",
    "    for j, kv in enumerate(single_record.items()):\n",
    "        k, v = kv\n",
    "        if j == 0:\n",
    "            fields = list(v.keys())\n",
    "            single_run_time = [0.0 for x in range(len(v))]\n",
    "        _values = list(v.values())\n",
    "        print(_values)\n",
    "        for k, _time in enumerate(_values):\n",
    "            single_run_time[k] += _time\n",
    "    run_time.append(single_run_time)\n",
    "\n",
    "print()\n",
    "print(fields)\n",
    "print(run_time)\n",
    "print(\"total_time(average) : {}[ms]\".format(sum(map(sum, run_time)) / len(run_time)))\n",
    "with open(\"./result_img/result_time_pynq.time\", \"wb\") as f:\n",
    "    pickle.dump({\"field\": fields, \"run_time\": run_time, \"execute_time\": execute_time, \"device\": \"pynqZ2\"}, f)"
   ]
  },
  {
   "cell_type": "code",
   "execution_count": null,
   "metadata": {},
   "outputs": [],
   "source": [
    "run_core = []\n",
    "for i in run_time:\n",
    "    run_core.append(i[-2])\n",
    "print(\"run_core_average : {} \\pm {}[ms]\".format(np.mean(run_core), np.std(run_core)))"
   ]
  }
 ],
 "metadata": {
  "kernelspec": {
   "display_name": "Python 3",
   "language": "python",
   "name": "python3"
  },
  "language_info": {
   "codemirror_mode": {
    "name": "ipython",
    "version": 3
   },
   "file_extension": ".py",
   "mimetype": "text/x-python",
   "name": "python",
   "nbconvert_exporter": "python",
   "pygments_lexer": "ipython3",
   "version": "3.6.5"
  }
 },
 "nbformat": 4,
 "nbformat_minor": 2
}
